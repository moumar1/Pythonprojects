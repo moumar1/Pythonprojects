{
  "nbformat": 4,
  "nbformat_minor": 0,
  "metadata": {
    "colab": {
      "provenance": [],
      "authorship_tag": "ABX9TyP0jYWT/rBkV9cRc9+Jc1O9",
      "include_colab_link": true
    },
    "kernelspec": {
      "name": "python3",
      "display_name": "Python 3"
    },
    "language_info": {
      "name": "python"
    }
  },
  "cells": [
    {
      "cell_type": "markdown",
      "metadata": {
        "id": "view-in-github",
        "colab_type": "text"
      },
      "source": [
        "<a href=\"https://colab.research.google.com/github/moumar1/Pythonprojects/blob/main/3_Python_tutorial_Integers_and_Floats.ipynb\" target=\"_parent\"><img src=\"https://colab.research.google.com/assets/colab-badge.svg\" alt=\"Open In Colab\"/></a>"
      ]
    },
    {
      "cell_type": "code",
      "execution_count": null,
      "metadata": {
        "colab": {
          "base_uri": "https://localhost:8080/"
        },
        "id": "9AihDdhCDH1q",
        "outputId": "7d9a64ae-f4f8-4f73-fdc4-ff1940b861cc"
      },
      "outputs": [
        {
          "output_type": "stream",
          "name": "stdout",
          "text": [
            "<class 'int'>\n",
            "<class 'int'>\n"
          ]
        }
      ],
      "source": [
        "#Integar is a whole number & floats are decimals\n",
        "num = 3\n",
        "print(type(num)) # Type is a command to print the class\n",
        "int = 3.14\n",
        "print(type(num))"
      ]
    },
    {
      "cell_type": "code",
      "source": [
        "# Arithmetic Operators:\n",
        "# Addition:       3 + 2\n",
        "# Subtraction:    3 - 2\n",
        "# Multiplication: 3 * 2\n",
        "# Division:       3 / 2\n",
        "# Floor Division: 3 // 2\n",
        "# Exponent:       3 ** 2\n",
        "# Modulus:        3 % 2 (How many times 2 goes into 3 with remainders)\n",
        "\n",
        "print(4 % 2)\n",
        "print(3//2)\n",
        "print(round(3.75, 1))"
      ],
      "metadata": {
        "colab": {
          "base_uri": "https://localhost:8080/"
        },
        "id": "35zooHjdP_rZ",
        "outputId": "30e81249-476e-47c3-cd1c-8078aba1b238"
      },
      "execution_count": null,
      "outputs": [
        {
          "output_type": "stream",
          "name": "stdout",
          "text": [
            "0\n",
            "1\n",
            "3.8\n"
          ]
        }
      ]
    },
    {
      "cell_type": "code",
      "source": [
        "# Comparisons:\n",
        "# Equal:            3 == 2\n",
        "# Not Equal:        3 != 2\n",
        "# Greater Than:     3 > 2\n",
        "# Less Than:        3 < 2\n",
        "# Greater or Equal: 3 >= 2\n",
        "# Less or Equal:    3 <= 2\n",
        "\n",
        "num_1 = 3\n",
        "num_2 = 2\n",
        "\n",
        "print(num_1 == num_2)\n",
        "print(num_1 < num_2)\n",
        "print(num_1 >= num_2)\n",
        "print(num_1 <= num_2)"
      ],
      "metadata": {
        "colab": {
          "base_uri": "https://localhost:8080/"
        },
        "id": "Z4odzKyhSjS9",
        "outputId": "4b956209-bc18-41e0-efc7-7e14eb28b9fc"
      },
      "execution_count": null,
      "outputs": [
        {
          "output_type": "stream",
          "name": "stdout",
          "text": [
            "False\n",
            "False\n",
            "True\n",
            "False\n"
          ]
        }
      ]
    },
    {
      "cell_type": "code",
      "source": [
        "num_1 = \"100\"\n",
        "num_2 = \"200\"\n",
        "\n",
        "#print(num_1 + num_2) # This will not add the two as they are in strings\n",
        "\n",
        "num_1 = int(num_1)\n",
        "num_2 = int(num_2)\n",
        "print(num_1 + num_2)\n"
      ],
      "metadata": {
        "colab": {
          "base_uri": "https://localhost:8080/"
        },
        "id": "P-IapUkDUeio",
        "outputId": "7a055f4b-4814-4245-df21-03403d753e2c"
      },
      "execution_count": 1,
      "outputs": [
        {
          "output_type": "stream",
          "name": "stdout",
          "text": [
            "300\n"
          ]
        }
      ]
    }
  ]
}