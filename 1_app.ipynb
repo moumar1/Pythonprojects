{
  "nbformat": 4,
  "nbformat_minor": 0,
  "metadata": {
    "colab": {
      "provenance": [],
      "authorship_tag": "ABX9TyMhh8ZrA5vGmbjXY+oidkRQ",
      "include_colab_link": true
    },
    "kernelspec": {
      "name": "python3",
      "display_name": "Python 3"
    },
    "language_info": {
      "name": "python"
    }
  },
  "cells": [
    {
      "cell_type": "markdown",
      "metadata": {
        "id": "view-in-github",
        "colab_type": "text"
      },
      "source": [
        "<a href=\"https://colab.research.google.com/github/moumar1/Pythonprojects/blob/main/1_app.ipynb\" target=\"_parent\"><img src=\"https://colab.research.google.com/assets/colab-badge.svg\" alt=\"Open In Colab\"/></a>"
      ]
    },
    {
      "cell_type": "markdown",
      "source": [
        "**Python Tutorial using Programming with Mosh**\n",
        "\n",
        "\n",
        "---\n",
        "\n",
        "\n",
        "Link is found:\n",
        "https://www.youtube.com/watch?v=_uQrJ0TkZlc"
      ],
      "metadata": {
        "id": "OoSab4RMsr5g"
      }
    },
    {
      "cell_type": "code",
      "execution_count": 1,
      "metadata": {
        "colab": {
          "base_uri": "https://localhost:8080/"
        },
        "id": "GnRRAiwM83FD",
        "outputId": "d134399a-beaf-440e-afca-f0aa50aa6189"
      },
      "outputs": [
        {
          "output_type": "stream",
          "name": "stdout",
          "text": [
            "Hello World!\n"
          ]
        }
      ],
      "source": [
        "print(\"Hello World!\")"
      ]
    },
    {
      "cell_type": "code",
      "source": [
        "pateint = \" John Smith\"\n",
        "age = 20\n",
        "is_new = True\n",
        "\n",
        "print(pateint)\n",
        "print(age)\n",
        "print(is_new)"
      ],
      "metadata": {
        "colab": {
          "base_uri": "https://localhost:8080/"
        },
        "id": "E0uC-bzdkFJC",
        "outputId": "ba3108ef-1f7d-4f2c-d0d3-9b35a17d6982"
      },
      "execution_count": 4,
      "outputs": [
        {
          "output_type": "stream",
          "name": "stdout",
          "text": [
            " John Smith\n",
            "20\n",
            "True\n"
          ]
        }
      ]
    },
    {
      "cell_type": "code",
      "source": [
        "# Input Functions\n",
        "\n",
        "name = input(\" What is your name? \")\n",
        "colour = input(\"What is your favourite colour? \")\n",
        "print(name + \" likes \" + colour)"
      ],
      "metadata": {
        "colab": {
          "base_uri": "https://localhost:8080/"
        },
        "id": "u2lLMPnEm0Q1",
        "outputId": "3ea2a6c5-497b-40ae-d646-eac5fa0a1b39"
      },
      "execution_count": 10,
      "outputs": [
        {
          "output_type": "stream",
          "name": "stdout",
          "text": [
            " What is your name? John\n",
            "What is your favourite colour? Blue\n",
            "John likes Blue\n"
          ]
        }
      ]
    },
    {
      "cell_type": "code",
      "source": [
        "birth_year = input (\"Birth year: \")\n",
        "print(type(birth_year))\n",
        "age = 2024 - int(birth_year) # String needs to be assigned to an integar\n",
        "print(type(age))\n",
        "print(age)"
      ],
      "metadata": {
        "colab": {
          "base_uri": "https://localhost:8080/"
        },
        "id": "t2AKoUCHonuV",
        "outputId": "f2539637-7bb0-4aa6-f61f-0f5b88919b77"
      },
      "execution_count": 13,
      "outputs": [
        {
          "output_type": "stream",
          "name": "stdout",
          "text": [
            "Birth year: 1998\n",
            "<class 'str'>\n",
            "<class 'int'>\n",
            "26\n"
          ]
        }
      ]
    },
    {
      "cell_type": "code",
      "source": [
        "# Type Conversion\n",
        "weight = input(\" What is your Weight in pounds? \")\n",
        "print(type(weight))\n",
        "weight_kg = int(weight) * 0.45\n",
        "print(type(weight_kg))\n",
        "print(weight_kg)"
      ],
      "metadata": {
        "colab": {
          "base_uri": "https://localhost:8080/"
        },
        "id": "jnMyylKNp1G6",
        "outputId": "a4d5b49f-3f73-445b-ebc3-ed37fe6dfe5b"
      },
      "execution_count": 16,
      "outputs": [
        {
          "output_type": "stream",
          "name": "stdout",
          "text": [
            " What is your Weight in pounds? 90\n",
            "<class 'str'>\n",
            "<class 'float'>\n",
            "40.5\n"
          ]
        }
      ]
    },
    {
      "cell_type": "code",
      "source": [
        "# Python Strings # 29:39"
      ],
      "metadata": {
        "id": "mrV0-9MfrQAo"
      },
      "execution_count": null,
      "outputs": []
    }
  ]
}