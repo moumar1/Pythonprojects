{
  "nbformat": 4,
  "nbformat_minor": 0,
  "metadata": {
    "colab": {
      "provenance": [],
      "authorship_tag": "ABX9TyMCLcusGyrKk0TCzSNeNAwa"
    },
    "kernelspec": {
      "name": "python3",
      "display_name": "Python 3"
    },
    "language_info": {
      "name": "python"
    }
  },
  "cells": [
    {
      "cell_type": "code",
      "execution_count": 7,
      "metadata": {
        "id": "2JXlATo4YUpq",
        "colab": {
          "base_uri": "https://localhost:8080/"
        },
        "outputId": "6e244518-b001-4187-aa09-5f6a3aedc28c"
      },
      "outputs": [
        {
          "output_type": "stream",
          "name": "stdout",
          "text": [
            "4\n",
            "['Geography', 'Math', 'Physics', 'CompSci']\n",
            "4\n",
            "Geography\n",
            "CompSci\n",
            "['Geography', 'Math']\n",
            "['Geography', 'Math']\n"
          ]
        }
      ],
      "source": [
        "#Lists\n",
        "courses = ['Geography', 'Math', 'Physics', 'CompSci']\n",
        "A = print(len(courses))\n",
        "B = print(courses)\n",
        "C = print(len(courses))\n",
        "D = print(courses[0]) # index 0\n",
        "E = print(courses[-1]) # Last item of the list will always be -1\n",
        "F = print(courses[0:2])\n",
        "G = print(courses[:2])"
      ]
    },
    {
      "cell_type": "code",
      "source": [
        "# List methods where you want to add items to the list\n",
        "courses = ['History', 'Math', 'Physics', 'CompSci']\n",
        "\n",
        "courses.append('Art') # Add to the list\n",
        "print(courses)\n"
      ],
      "metadata": {
        "colab": {
          "base_uri": "https://localhost:8080/"
        },
        "id": "LA2Y_-G9A5gp",
        "outputId": "13e55012-315d-46cc-b421-c0ff8607e3cc"
      },
      "execution_count": 5,
      "outputs": [
        {
          "output_type": "stream",
          "name": "stdout",
          "text": [
            "['History', 'Math', 'Physics', 'CompSci', 'Art']\n"
          ]
        }
      ]
    },
    {
      "cell_type": "code",
      "source": [],
      "metadata": {
        "id": "b9AkntjJBf86"
      },
      "execution_count": null,
      "outputs": []
    },
    {
      "cell_type": "code",
      "source": [
        "# List methods where you want to insert items to the list\n",
        "courses = ['History', 'Math', 'Physics', 'CompSci']\n",
        "\n",
        "courses.insert(0,'Art') # Insert art at location 0 of the list\n",
        "print(courses)\n"
      ],
      "metadata": {
        "colab": {
          "base_uri": "https://localhost:8080/"
        },
        "outputId": "0617e732-8e05-4eb9-cc9c-f70d94c3f1c6",
        "id": "BUpoa9ceBkQK"
      },
      "execution_count": 6,
      "outputs": [
        {
          "output_type": "stream",
          "name": "stdout",
          "text": [
            "['Art', 'History', 'Math', 'Physics', 'CompSci']\n"
          ]
        }
      ]
    },
    {
      "cell_type": "code",
      "source": [
        "#Add values together\n",
        "courses = ['History', 'Math', 'Physics', 'CompSci']\n",
        "courses_2 = ['Art', 'Education']\n",
        "\n",
        "courses.extend(courses_2) # Extend courses with courses_2\n",
        "print(courses)\n"
      ],
      "metadata": {
        "colab": {
          "base_uri": "https://localhost:8080/"
        },
        "id": "WrfpIThjB6vp",
        "outputId": "75c5d1dd-3c1e-4b98-efd6-981707e1e87e"
      },
      "execution_count": 9,
      "outputs": [
        {
          "output_type": "stream",
          "name": "stdout",
          "text": [
            "['History', 'Math', 'Physics', 'CompSci', 'Art', 'Education']\n"
          ]
        }
      ]
    },
    {
      "cell_type": "code",
      "source": [
        "#Remove values from list\n",
        "courses = ['History', 'Math', 'Physics', 'CompSci']\n",
        "\n",
        "courses.remove('Math') # Remove math from list\n",
        "print(courses)"
      ],
      "metadata": {
        "colab": {
          "base_uri": "https://localhost:8080/"
        },
        "id": "iyARiIncCwFf",
        "outputId": "0fccf93b-6031-4927-adf6-3e1f67564aeb"
      },
      "execution_count": 10,
      "outputs": [
        {
          "output_type": "stream",
          "name": "stdout",
          "text": [
            "['History', 'Physics', 'CompSci']\n"
          ]
        }
      ]
    },
    {
      "cell_type": "code",
      "source": [
        "#Order and sort the list\n",
        "courses = ['History', 'Math', 'Physics', 'CompSci']\n",
        "courses.reverse() #reverses the list\n",
        "print(courses)\n"
      ],
      "metadata": {
        "colab": {
          "base_uri": "https://localhost:8080/"
        },
        "id": "hFAfdLlWDlOO",
        "outputId": "623f35c2-0c52-4e30-d22e-09ca24d5f38a"
      },
      "execution_count": 11,
      "outputs": [
        {
          "output_type": "stream",
          "name": "stdout",
          "text": [
            "['CompSci', 'Physics', 'Math', 'History']\n"
          ]
        }
      ]
    },
    {
      "cell_type": "code",
      "source": [
        "#Sort in alphabetical order\n",
        "courses = ['History', 'Math', 'Physics', 'CompSci']\n",
        "courses.sort() #Sorts the list in alphabetical order\n",
        "print(courses)"
      ],
      "metadata": {
        "colab": {
          "base_uri": "https://localhost:8080/"
        },
        "id": "rE2QTTPhDzql",
        "outputId": "85dc26f1-53bc-4829-fb52-8796dc93cc45"
      },
      "execution_count": 12,
      "outputs": [
        {
          "output_type": "stream",
          "name": "stdout",
          "text": [
            "['CompSci', 'History', 'Math', 'Physics']\n"
          ]
        }
      ]
    },
    {
      "cell_type": "code",
      "source": [
        "# Order for numberical and alphabetical\n",
        "courses = ['History', 'Math', 'Physics', 'CompSci']\n",
        "nums = [1 , 6, 3, 2]\n",
        "\n",
        "courses.sort()\n",
        "nums.sort()\n",
        "print(courses) # Sorts in alphabetical order\n",
        "print(nums) #Sorts in numerical order"
      ],
      "metadata": {
        "colab": {
          "base_uri": "https://localhost:8080/"
        },
        "id": "dBY9NAHUEIBN",
        "outputId": "28b3962f-ba99-426a-f664-cf05178521c3"
      },
      "execution_count": 13,
      "outputs": [
        {
          "output_type": "stream",
          "name": "stdout",
          "text": [
            "['CompSci', 'History', 'Math', 'Physics']\n",
            "[1, 2, 3, 6]\n"
          ]
        }
      ]
    },
    {
      "cell_type": "code",
      "source": [
        "# Descending Order for numberical and alphabetical\n",
        "courses = ['History', 'Math', 'Physics', 'CompSci']\n",
        "nums = [1 , 6, 3, 2]\n",
        "\n",
        "courses.sort(reverse=True)\n",
        "nums.sort(reverse=True)\n",
        "print(courses) # Sorts in alphabetical order\n",
        "print(nums) #Sorts in numerical order"
      ],
      "metadata": {
        "colab": {
          "base_uri": "https://localhost:8080/"
        },
        "id": "UTfu0w7DEjal",
        "outputId": "79f5424c-db33-4086-adef-70fa8401e30b"
      },
      "execution_count": 16,
      "outputs": [
        {
          "output_type": "stream",
          "name": "stdout",
          "text": [
            "['Physics', 'Math', 'History', 'CompSci']\n",
            "[6, 3, 2, 1]\n"
          ]
        }
      ]
    },
    {
      "cell_type": "code",
      "source": [
        "courses = ['History', 'Math', 'Physics', 'CompSci']\n",
        "course_str = ', '.join(courses)\n",
        "print(course_str)"
      ],
      "metadata": {
        "colab": {
          "base_uri": "https://localhost:8080/"
        },
        "id": "hDOHPDI1G_3B",
        "outputId": "5ea8a9c7-6e40-4b68-b7f2-890c9d38f32f"
      },
      "execution_count": 17,
      "outputs": [
        {
          "output_type": "stream",
          "name": "stdout",
          "text": [
            "History, Math, Physics, CompSci\n"
          ]
        }
      ]
    },
    {
      "cell_type": "markdown",
      "source": [
        "### The following explains Immutable and Mutable lists"
      ],
      "metadata": {
        "id": "ZsW7pb2aPqnC"
      }
    },
    {
      "cell_type": "code",
      "source": [
        "# Tuples are similar to lists Immutable\n",
        "\n",
        "# Mutable\n",
        "# list_1 = ['History', 'Math', 'Physics', 'CompSci']\n",
        "# list_2 = list_1\n",
        "\n",
        "# print(list_1)\n",
        "# print(list_2)\n",
        "\n",
        "# list_1[0] = 'Art'\n",
        "\n",
        "# print(list_1)\n",
        "# print(list_2)\n",
        "\n",
        "\n",
        "#Immutable\n",
        "tuple_1 = ('History', 'Math', 'Physics', 'CompSci')\n",
        "tuple_2 = tuple_1\n",
        "\n",
        "print(tuple_1)\n",
        "print(tuple_2)\n",
        "\n",
        "# tuple_1[0] = 'Art' # Not possible to add into the index\n",
        "\n",
        "# print(tuple_1)\n",
        "# print(tuple_2)"
      ],
      "metadata": {
        "colab": {
          "base_uri": "https://localhost:8080/"
        },
        "id": "rxCZKkq0N6Je",
        "outputId": "bde95e96-32ff-4641-88ae-19de62193988"
      },
      "execution_count": 22,
      "outputs": [
        {
          "output_type": "stream",
          "name": "stdout",
          "text": [
            "('History', 'Math', 'Physics', 'CompSci')\n",
            "('History', 'Math', 'Physics', 'CompSci')\n"
          ]
        }
      ]
    },
    {
      "cell_type": "markdown",
      "source": [
        "### Using curly braces for {} sets"
      ],
      "metadata": {
        "id": "JOEM6L-_QKlZ"
      }
    },
    {
      "cell_type": "code",
      "source": [
        "# Sets\n",
        "cs_courses = {'History', 'Math', 'Physics', 'CompSci'}\n",
        "\n",
        "print(cs_courses)\n",
        "# Order will always change when executed. It doesn't care about order"
      ],
      "metadata": {
        "colab": {
          "base_uri": "https://localhost:8080/"
        },
        "id": "MqxZMvTKQDta",
        "outputId": "ddedd9e9-ce15-47e5-fd81-aa128d3c4807"
      },
      "execution_count": 23,
      "outputs": [
        {
          "output_type": "stream",
          "name": "stdout",
          "text": [
            "{'Math', 'Physics', 'CompSci', 'History'}\n"
          ]
        }
      ]
    },
    {
      "cell_type": "code",
      "source": [
        "# Sets\n",
        "cs_courses = {'History', 'Math', 'Physics', 'CompSci', 'Math'} # Duplicate of Math\n",
        "\n",
        "print(cs_courses)"
      ],
      "metadata": {
        "colab": {
          "base_uri": "https://localhost:8080/"
        },
        "id": "Fx1lEzDgQRvR",
        "outputId": "1854e68e-1473-4650-da49-6e50804656af"
      },
      "execution_count": 24,
      "outputs": [
        {
          "output_type": "stream",
          "name": "stdout",
          "text": [
            "{'Math', 'Physics', 'CompSci', 'History'}\n"
          ]
        }
      ]
    },
    {
      "cell_type": "code",
      "source": [
        "# Sets\n",
        "cs_courses = {'History', 'Math', 'Physics', 'CompSci', 'Math'} # Duplicate of Math\n",
        "\n",
        "print('Math' in cs_courses)"
      ],
      "metadata": {
        "colab": {
          "base_uri": "https://localhost:8080/"
        },
        "id": "B96qsidbQmUC",
        "outputId": "477d5abf-a527-4580-8f02-a495aeda69fc"
      },
      "execution_count": 25,
      "outputs": [
        {
          "output_type": "stream",
          "name": "stdout",
          "text": [
            "True\n"
          ]
        }
      ]
    },
    {
      "cell_type": "code",
      "source": [
        "# Sets\n",
        "cs_courses = {'History', 'Math', 'Physics', 'CompSci', 'Math'} # Duplicate of Math\n",
        "art_courses = {'History', 'Math', 'Art', 'Design'} # Duplicate of Math\n",
        "\n",
        "print(cs_courses.intersection(art_courses)) # Intersection shows what is the same as the argument\n",
        "print(cs_courses.difference(art_courses)) # Difference shows what is the different as the argument\n",
        "print(cs_courses.union(art_courses)) # union prints all in the sets without duplicating\n"
      ],
      "metadata": {
        "colab": {
          "base_uri": "https://localhost:8080/"
        },
        "id": "ueDSlhtAQynS",
        "outputId": "0627a5ca-2502-44ad-98ef-7bb077abadf0"
      },
      "execution_count": 28,
      "outputs": [
        {
          "output_type": "stream",
          "name": "stdout",
          "text": [
            "{'Math', 'History'}\n",
            "{'Physics', 'CompSci'}\n",
            "{'Math', 'Physics', 'Art', 'Design', 'CompSci', 'History'}\n"
          ]
        }
      ]
    }
  ]
}