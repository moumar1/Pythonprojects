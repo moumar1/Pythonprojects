{
  "nbformat": 4,
  "nbformat_minor": 0,
  "metadata": {
    "colab": {
      "provenance": [],
      "authorship_tag": "ABX9TyOsDhYftd68CnzZxU9buYVt",
      "include_colab_link": true
    },
    "kernelspec": {
      "name": "python3",
      "display_name": "Python 3"
    },
    "language_info": {
      "name": "python"
    }
  },
  "cells": [
    {
      "cell_type": "markdown",
      "metadata": {
        "id": "view-in-github",
        "colab_type": "text"
      },
      "source": [
        "<a href=\"https://colab.research.google.com/github/moumar1/Pythonprojects/blob/main/2_app_functions.ipynb\" target=\"_parent\"><img src=\"https://colab.research.google.com/assets/colab-badge.svg\" alt=\"Open In Colab\"/></a>"
      ]
    },
    {
      "cell_type": "code",
      "execution_count": 1,
      "metadata": {
        "colab": {
          "base_uri": "https://localhost:8080/"
        },
        "id": "jy4xjKsESqsa",
        "outputId": "511c9e5c-cfab-4913-bee7-10bca528c6e5"
      },
      "outputs": [
        {
          "output_type": "stream",
          "name": "stdout",
          "text": [
            "Start \n",
            "Hi There!\n",
            "Welcome Aboard\n",
            "Finish\n"
          ]
        }
      ],
      "source": [
        "# Function for defining and calling\n",
        "# Starts with def something()\n",
        "def greet_user():\n",
        "  print('Hi There!')\n",
        "  print('Welcome Aboard')\n",
        "\n",
        "\n",
        "print(\"Start \")\n",
        "greet_user()\n",
        "print(\"Finish\")"
      ]
    },
    {
      "cell_type": "code",
      "source": [
        "greet_user() # you can call a function from previous\n",
        "#block of code\n"
      ],
      "metadata": {
        "colab": {
          "base_uri": "https://localhost:8080/"
        },
        "id": "BIDgsF80lWif",
        "outputId": "ec3bf51c-a9a0-4608-c32b-01e6559d4aca"
      },
      "execution_count": 2,
      "outputs": [
        {
          "output_type": "stream",
          "name": "stdout",
          "text": [
            "Hi There!\n",
            "Welcome Aboard\n"
          ]
        }
      ]
    },
    {
      "cell_type": "code",
      "source": [
        "# Function for defining and calling\n",
        "# Starts with def something()\n",
        "def greet_user(name):\n",
        "  print(f'Hi {name}')\n",
        "  print('Welcome Aboard')\n",
        "\n",
        "\n",
        "print(\"Start \")\n",
        "greet_user(\"John\") # Mary is the argument that passes ...\n",
        "greet_user(\"Mary\") # Through the parameter in the function\n",
        "print(\"Finish\") # greet_user(name)"
      ],
      "metadata": {
        "colab": {
          "base_uri": "https://localhost:8080/"
        },
        "id": "2NxRv_EAlqCJ",
        "outputId": "dd9a5284-1a80-494f-ab75-306910643b7b"
      },
      "execution_count": 4,
      "outputs": [
        {
          "output_type": "stream",
          "name": "stdout",
          "text": [
            "Start \n",
            "Hi John\n",
            "Welcome Aboard\n",
            "Hi Mary\n",
            "Welcome Aboard\n",
            "Finish\n"
          ]
        }
      ]
    }
  ]
}