{
  "nbformat": 4,
  "nbformat_minor": 0,
  "metadata": {
    "colab": {
      "provenance": [],
      "authorship_tag": "ABX9TyMG9kk2YIN20uXT3XbcV+mm",
      "include_colab_link": true
    },
    "kernelspec": {
      "name": "python3",
      "display_name": "Python 3"
    },
    "language_info": {
      "name": "python"
    }
  },
  "cells": [
    {
      "cell_type": "markdown",
      "metadata": {
        "id": "view-in-github",
        "colab_type": "text"
      },
      "source": [
        "<a href=\"https://colab.research.google.com/github/moumar1/Pythonprojects/blob/main/2_app_functions.ipynb\" target=\"_parent\"><img src=\"https://colab.research.google.com/assets/colab-badge.svg\" alt=\"Open In Colab\"/></a>"
      ]
    },
    {
      "cell_type": "code",
      "execution_count": 1,
      "metadata": {
        "colab": {
          "base_uri": "https://localhost:8080/"
        },
        "id": "jy4xjKsESqsa",
        "outputId": "511c9e5c-cfab-4913-bee7-10bca528c6e5"
      },
      "outputs": [
        {
          "output_type": "stream",
          "name": "stdout",
          "text": [
            "Start \n",
            "Hi There!\n",
            "Welcome Aboard\n",
            "Finish\n"
          ]
        }
      ],
      "source": [
        "# Function for defining and calling\n",
        "# Starts with def something()\n",
        "def greet_user():\n",
        "  print('Hi There!')\n",
        "  print('Welcome Aboard')\n",
        "\n",
        "\n",
        "print(\"Start \")\n",
        "greet_user()\n",
        "print(\"Finish\")"
      ]
    },
    {
      "cell_type": "code",
      "source": [
        "greet_user() # you can call a function from previous\n",
        "#block of code\n"
      ],
      "metadata": {
        "colab": {
          "base_uri": "https://localhost:8080/"
        },
        "id": "BIDgsF80lWif",
        "outputId": "ec3bf51c-a9a0-4608-c32b-01e6559d4aca"
      },
      "execution_count": 2,
      "outputs": [
        {
          "output_type": "stream",
          "name": "stdout",
          "text": [
            "Hi There!\n",
            "Welcome Aboard\n"
          ]
        }
      ]
    },
    {
      "cell_type": "code",
      "source": [
        "# Function for defining and calling\n",
        "# Starts with def something()\n",
        "def greet_user(name , last_name):\n",
        "  print(f'Hi {name}, {last_name}')\n",
        "  print('Welcome Aboard')\n",
        "\n",
        "\n",
        "print(\"Start \")\n",
        "\n",
        "# In the first iteration of\n",
        "#the loop, i is 0. So, {i + 1}\n",
        "for i in range(2):  # Loop 2 times for 2 users\n",
        "    print(f\"User {i + 1}:\")\n",
        "    name = input(\"Enter your First Name: \")\n",
        "    last_name = input(\"Enter your Last Name: \")\n",
        "    greet_user(name, last_name)\n",
        "    print(\"finish\")"
      ],
      "metadata": {
        "colab": {
          "base_uri": "https://localhost:8080/"
        },
        "id": "2NxRv_EAlqCJ",
        "outputId": "216d30e4-2fd6-4e56-d98b-d5353b9b36e4"
      },
      "execution_count": 13,
      "outputs": [
        {
          "output_type": "stream",
          "name": "stdout",
          "text": [
            "Start \n",
            "User 1:\n",
            "Enter your First Name: John\n",
            "Enter your Last Name: Smith\n",
            "Hi John, Smith\n",
            "Welcome Aboard\n",
            "finish\n",
            "User 2:\n",
            "Enter your First Name: James\n",
            "Enter your Last Name: Wild\n",
            "Hi James, Wild\n",
            "Welcome Aboard\n",
            "finish\n"
          ]
        }
      ]
    },
    {
      "cell_type": "code",
      "source": [
        "def the_colour(colour):\n",
        "  print(f\"Your favourite Colour is: {colour}\")\n",
        "\n",
        "for i in range(2):\n",
        "  print(f\"Colour {i + 1} \")\n",
        "  colour = input(\"What Is Your Favourite Colour? \")\n",
        "  the_colour(colour)\n"
      ],
      "metadata": {
        "colab": {
          "base_uri": "https://localhost:8080/"
        },
        "id": "SqBWc3IXtKIu",
        "outputId": "905b4613-74fa-4e0f-bc15-a4cb217e1d60"
      },
      "execution_count": 18,
      "outputs": [
        {
          "output_type": "stream",
          "name": "stdout",
          "text": [
            "Colour 1 \n",
            "What Is Your Favourite Colour? Yellow\n",
            "Your favourite Colour is: Yellow\n",
            "Colour 2 \n",
            "What Is Your Favourite Colour? Blue\n",
            "Your favourite Colour is: Blue\n"
          ]
        }
      ]
    }
  ]
}