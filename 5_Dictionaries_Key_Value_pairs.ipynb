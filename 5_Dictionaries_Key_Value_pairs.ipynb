{
  "nbformat": 4,
  "nbformat_minor": 0,
  "metadata": {
    "colab": {
      "provenance": [],
      "authorship_tag": "ABX9TyOPFpw9hMAP76eX9LrM3o0V",
      "include_colab_link": true
    },
    "kernelspec": {
      "name": "python3",
      "display_name": "Python 3"
    },
    "language_info": {
      "name": "python"
    }
  },
  "cells": [
    {
      "cell_type": "markdown",
      "metadata": {
        "id": "view-in-github",
        "colab_type": "text"
      },
      "source": [
        "<a href=\"https://colab.research.google.com/github/moumar1/Pythonprojects/blob/main/5_Dictionaries_Key_Value_pairs.ipynb\" target=\"_parent\"><img src=\"https://colab.research.google.com/assets/colab-badge.svg\" alt=\"Open In Colab\"/></a>"
      ]
    },
    {
      "cell_type": "markdown",
      "source": [
        "#### Dictionaries"
      ],
      "metadata": {
        "id": "-2UYGH9Qgf5H"
      }
    },
    {
      "cell_type": "code",
      "execution_count": 6,
      "metadata": {
        "colab": {
          "base_uri": "https://localhost:8080/"
        },
        "id": "fEStAz_GSYmV",
        "outputId": "e73275c5-a5f4-4aca-c380-d7d821e427ab"
      },
      "outputs": [
        {
          "output_type": "stream",
          "name": "stdout",
          "text": [
            "{'name': 'John', 'age': 25, 'courses': ['Math', 'CompSci']}\n",
            "John\n",
            "['Math', 'CompSci']\n",
            "25\n",
            "John\n",
            "Not Found\n"
          ]
        }
      ],
      "source": [
        "student ={'name': 'John', 'age': 25, 'courses' : ['Math', 'CompSci'] }\n",
        "print(student)\n",
        "print(student['name'])\n",
        "print(student['courses'])\n",
        "print(student['age'])\n",
        "\n",
        "# We can also use the command .get\n",
        "print(student.get('name'))\n",
        "print(student.get('phone', 'Not Found'))"
      ]
    },
    {
      "cell_type": "code",
      "source": [
        "# update values\n",
        "student ={'name': 'John', 'age': 25, 'courses' : ['Math', 'CompSci'] }\n",
        "#student['phone'] = '555-5555'\n",
        "#student['name'] = 'Jane'\n",
        "#student.update({'name': 'Jane', 'age': 30, 'phone':'555-555' })\n",
        "#del student['age']\n",
        "\n",
        "\n",
        "print(student)"
      ],
      "metadata": {
        "colab": {
          "base_uri": "https://localhost:8080/"
        },
        "id": "Yqkg1oZZjjyi",
        "outputId": "47079f25-f619-4f31-f10f-26e1d31a658b"
      },
      "execution_count": 10,
      "outputs": [
        {
          "output_type": "stream",
          "name": "stdout",
          "text": [
            "{'name': 'John', 'courses': ['Math', 'CompSci']}\n"
          ]
        }
      ]
    },
    {
      "cell_type": "code",
      "source": [
        "student ={'name': 'John', 'age': 25, 'courses' : ['Math', 'CompSci'] }\n",
        "print(len(student))"
      ],
      "metadata": {
        "colab": {
          "base_uri": "https://localhost:8080/"
        },
        "id": "4gwvminvo_F8",
        "outputId": "891179f7-e347-4fc8-f6a8-8330b6968cc8"
      },
      "execution_count": 11,
      "outputs": [
        {
          "output_type": "stream",
          "name": "stdout",
          "text": [
            "3\n"
          ]
        }
      ]
    }
  ]
}