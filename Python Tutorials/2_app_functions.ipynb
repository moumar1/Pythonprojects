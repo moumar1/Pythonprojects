{
  "nbformat": 4,
  "nbformat_minor": 0,
  "metadata": {
    "colab": {
      "provenance": [],
      "authorship_tag": "ABX9TyOevPbSNXMTNoel4jG4gG2z",
      "include_colab_link": true
    },
    "kernelspec": {
      "name": "python3",
      "display_name": "Python 3"
    },
    "language_info": {
      "name": "python"
    }
  },
  "cells": [
    {
      "cell_type": "markdown",
      "metadata": {
        "id": "view-in-github",
        "colab_type": "text"
      },
      "source": [
        "<a href=\"https://colab.research.google.com/github/moumar1/Pythonprojects/blob/main/2_app_functions.ipynb\" target=\"_parent\"><img src=\"https://colab.research.google.com/assets/colab-badge.svg\" alt=\"Open In Colab\"/></a>"
      ]
    },
    {
      "cell_type": "code",
      "execution_count": 1,
      "metadata": {
        "colab": {
          "base_uri": "https://localhost:8080/"
        },
        "id": "jy4xjKsESqsa",
        "outputId": "2d979e41-7891-48af-d4ff-d5e841386f7a"
      },
      "outputs": [
        {
          "output_type": "stream",
          "name": "stdout",
          "text": [
            "Start \n",
            "Hi There!\n",
            "Welcome Aboard\n",
            "Finish\n"
          ]
        }
      ],
      "source": [
        "# Function for defining and calling\n",
        "# Starts with def something()\n",
        "def greet_user():\n",
        "  print('Hi There!')\n",
        "  print('Welcome Aboard')\n",
        "\n",
        "\n",
        "print(\"Start \")\n",
        "greet_user()\n",
        "print(\"Finish\")"
      ]
    },
    {
      "cell_type": "code",
      "source": [
        "greet_user() # you can call a function from previous\n",
        "#block of code\n"
      ],
      "metadata": {
        "colab": {
          "base_uri": "https://localhost:8080/"
        },
        "id": "BIDgsF80lWif",
        "outputId": "ec3bf51c-a9a0-4608-c32b-01e6559d4aca"
      },
      "execution_count": 2,
      "outputs": [
        {
          "output_type": "stream",
          "name": "stdout",
          "text": [
            "Hi There!\n",
            "Welcome Aboard\n"
          ]
        }
      ]
    },
    {
      "cell_type": "code",
      "source": [
        "# Function for defining and calling\n",
        "# Starts with def something()\n",
        "def greet_user(name, last_name):\n",
        "  print(f'Hi {name} {last_name} ')\n",
        "  print('Welcome Aboard')\n",
        "\n",
        "\n",
        "print(\"Start \")\n",
        "greet_user(\"John\", \"Lane\")\n",
        "greet_user(\"Mary\", \"Lane\")\n",
        "print(\"Finish\")"
      ],
      "metadata": {
        "colab": {
          "base_uri": "https://localhost:8080/"
        },
        "id": "Wcn-8TRXvLi7",
        "outputId": "a474cbf2-4b75-48d6-e27a-0187cf1ae2d1"
      },
      "execution_count": 5,
      "outputs": [
        {
          "output_type": "stream",
          "name": "stdout",
          "text": [
            "Start \n",
            "Hi John Lane \n",
            "Welcome Aboard\n",
            "Hi Mary Lane \n",
            "Welcome Aboard\n",
            "Finish\n"
          ]
        }
      ]
    },
    {
      "cell_type": "code",
      "source": [
        "# Function for defining and calling\n",
        "# Starts with def something()\n",
        "def greet_user(name , last_name):\n",
        "  print(f'Hi {name}, {last_name}')\n",
        "  print('Welcome Aboard')\n",
        "\n",
        "\n",
        "print(\"Start \")\n",
        "\n",
        "# In the first iteration of\n",
        "#the loop, i is 0. So, {i + 1}\n",
        "for i in range(2):  # Loop 2 times for 2 users\n",
        "    print(f\"User {i + 1}:\")\n",
        "    name = input(\"Enter your First Name: \")\n",
        "    last_name = input(\"Enter your Last Name: \")\n",
        "    greet_user(name, last_name)\n",
        "    print(\"finish\")"
      ],
      "metadata": {
        "colab": {
          "base_uri": "https://localhost:8080/"
        },
        "id": "2NxRv_EAlqCJ",
        "outputId": "32de0dfe-674b-4b0c-fcca-1f06e347b825"
      },
      "execution_count": 6,
      "outputs": [
        {
          "output_type": "stream",
          "name": "stdout",
          "text": [
            "Start \n",
            "User 1:\n",
            "Enter your First Name: John\n",
            "Enter your Last Name: Smith\n",
            "Hi John, Smith\n",
            "Welcome Aboard\n",
            "finish\n",
            "User 2:\n",
            "Enter your First Name: Mary\n",
            "Enter your Last Name: Jane\n",
            "Hi Mary, Jane\n",
            "Welcome Aboard\n",
            "finish\n"
          ]
        }
      ]
    },
    {
      "cell_type": "code",
      "source": [
        "def the_colour(colour):\n",
        "  print(f\"Your favourite Colour is: {colour}\")\n",
        "\n",
        "for i in range(2):\n",
        "  print(f\"Colour {i + 1} \")\n",
        "  colour = input(\"What Is Your Favourite Colour? \")\n",
        "  the_colour(colour)\n"
      ],
      "metadata": {
        "colab": {
          "base_uri": "https://localhost:8080/"
        },
        "id": "SqBWc3IXtKIu",
        "outputId": "908c64be-047b-484b-8db0-b72b4bbfbaf0"
      },
      "execution_count": 7,
      "outputs": [
        {
          "output_type": "stream",
          "name": "stdout",
          "text": [
            "Colour 1 \n",
            "What Is Your Favourite Colour? blue\n",
            "Your favourite Colour is: blue\n",
            "Colour 2 \n",
            "What Is Your Favourite Colour? yellow\n",
            "Your favourite Colour is: yellow\n"
          ]
        }
      ]
    },
    {
      "cell_type": "code",
      "source": [
        "def square(number):\n",
        "  return number*number\n",
        "\n",
        "number = int(input(\"Enter a number: \"))\n",
        "result = square(number)\n",
        "print(result)"
      ],
      "metadata": {
        "colab": {
          "base_uri": "https://localhost:8080/"
        },
        "id": "ygrb8alx_P5a",
        "outputId": "47347732-5e06-4449-be75-36e587a39f58"
      },
      "execution_count": 10,
      "outputs": [
        {
          "output_type": "stream",
          "name": "stdout",
          "text": [
            "Enter a number: 5\n",
            "25\n"
          ]
        }
      ]
    },
    {
      "cell_type": "code",
      "source": [
        "# Exceptions\n",
        "try:\n",
        "  age = int(input('Age: '))\n",
        "  print(age)\n",
        "except ValueError:\n",
        "  print(\"Try Again Invalid Value\")"
      ],
      "metadata": {
        "colab": {
          "base_uri": "https://localhost:8080/"
        },
        "id": "pZDCOC22BKGl",
        "outputId": "b888aa2e-d872-4c29-c589-bfa5c463d3f8"
      },
      "execution_count": 13,
      "outputs": [
        {
          "output_type": "stream",
          "name": "stdout",
          "text": [
            "Age: fffs\n",
            "Try Again Invalid Value\n"
          ]
        }
      ]
    },
    {
      "cell_type": "code",
      "source": [
        "#Classes used to define new types\n",
        "class Point:\n",
        "  def move(self):\n",
        "      print(\"Move\")"
      ],
      "metadata": {
        "id": "_Q3iQrBf2mX4"
      },
      "execution_count": null,
      "outputs": []
    },
    {
      "cell_type": "code",
      "source": [
        "# Learn packages"
      ],
      "metadata": {
        "id": "htoG-8Q1uShs"
      },
      "execution_count": 3,
      "outputs": []
    },
    {
      "cell_type": "code",
      "source": [
        "# Built in modules\n",
        "import random\n",
        "# prints random values from 0 to 1\n",
        "for i in range(3):\n",
        "  print(random.random())"
      ],
      "metadata": {
        "colab": {
          "base_uri": "https://localhost:8080/"
        },
        "id": "JovKwZ9RvHzD",
        "outputId": "b5e9997a-ebb0-494f-b565-7b77e08c21d2"
      },
      "execution_count": 4,
      "outputs": [
        {
          "output_type": "stream",
          "name": "stdout",
          "text": [
            "0.8161491075369379\n",
            "0.22279756360109182\n",
            "0.015320306084361413\n"
          ]
        }
      ]
    },
    {
      "cell_type": "code",
      "source": [
        "# Built in modules\n",
        "import random\n",
        "# prints random values from 0 to 1\n",
        "for i in range(3):\n",
        "  print(random.randint(10, 20))"
      ],
      "metadata": {
        "colab": {
          "base_uri": "https://localhost:8080/"
        },
        "id": "t5gJrJdIwK2C",
        "outputId": "e0b6ce1f-4909-49c9-8aa4-350788c58ba4"
      },
      "execution_count": 7,
      "outputs": [
        {
          "output_type": "stream",
          "name": "stdout",
          "text": [
            "17\n",
            "19\n",
            "10\n"
          ]
        }
      ]
    },
    {
      "cell_type": "code",
      "source": [
        "import random\n",
        "\n",
        "members = ['John', 'Julie', 'Mathew', 'Mark']\n",
        "print(random.choice(members))"
      ],
      "metadata": {
        "colab": {
          "base_uri": "https://localhost:8080/"
        },
        "id": "fdOj1qu4wVVA",
        "outputId": "c692fb2e-ce63-4fb9-f64d-92629b6bcc9b"
      },
      "execution_count": 11,
      "outputs": [
        {
          "output_type": "stream",
          "name": "stdout",
          "text": [
            "John\n"
          ]
        }
      ]
    },
    {
      "cell_type": "code",
      "source": [
        "\n",
        "import random\n",
        "\n",
        "def roll():\n",
        "  x = random.randint(1, 6)  # Generate random number for x\n",
        "  y = random.randint(1, 6)  # Generate random number for y\n",
        "  print(f\"{x}, {y}\")  # Print the dice roll\n",
        "\n",
        "roll()  # Call the function to print one random pair of numbers\n"
      ],
      "metadata": {
        "colab": {
          "base_uri": "https://localhost:8080/"
        },
        "id": "k0U-C-Snw0oo",
        "outputId": "c83b2b7b-bd88-43db-c766-52220db8473b"
      },
      "execution_count": 26,
      "outputs": [
        {
          "output_type": "stream",
          "name": "stdout",
          "text": [
            "5, 3\n"
          ]
        }
      ]
    },
    {
      "cell_type": "code",
      "source": [
        "from pathlib import Path\n",
        "\n",
        "path = Path()\n",
        "#print(path.mkdir)\n",
        "for file in path.glob('*.*'):\n",
        "  print(file)\n",
        "\n",
        "# print file using a pattern\n",
        "# Prints and searches files on a directory"
      ],
      "metadata": {
        "colab": {
          "base_uri": "https://localhost:8080/"
        },
        "id": "-516Io361P02",
        "outputId": "7028d339-4224-4eed-e244-9f8d8f24dfb5"
      },
      "execution_count": 31,
      "outputs": [
        {
          "output_type": "stream",
          "name": "stdout",
          "text": [
            ".config\n"
          ]
        }
      ]
    }
  ]
}