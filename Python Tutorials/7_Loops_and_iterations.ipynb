{
  "nbformat": 4,
  "nbformat_minor": 0,
  "metadata": {
    "colab": {
      "provenance": [],
      "authorship_tag": "ABX9TyNBxcM3jBkc4/vUE/70RKvq",
      "include_colab_link": true
    },
    "kernelspec": {
      "name": "python3",
      "display_name": "Python 3"
    },
    "language_info": {
      "name": "python"
    }
  },
  "cells": [
    {
      "cell_type": "markdown",
      "metadata": {
        "id": "view-in-github",
        "colab_type": "text"
      },
      "source": [
        "<a href=\"https://colab.research.google.com/github/moumar1/Pythonprojects/blob/main/7_Loops_and_iterations.ipynb\" target=\"_parent\"><img src=\"https://colab.research.google.com/assets/colab-badge.svg\" alt=\"Open In Colab\"/></a>"
      ]
    },
    {
      "cell_type": "code",
      "execution_count": 7,
      "metadata": {
        "colab": {
          "base_uri": "https://localhost:8080/"
        },
        "id": "K2NWKDpulguF",
        "outputId": "cecf4eaf-b3e1-4ff3-885c-92461c01234d"
      },
      "outputs": [
        {
          "output_type": "stream",
          "name": "stdout",
          "text": [
            "1\n",
            "2\n",
            "num\n",
            "4\n",
            "5\n"
          ]
        }
      ],
      "source": [
        "nums = [1, 2, 3, 4, 5]\n",
        "for num in nums:\n",
        "  if num ==3:\n",
        "    print('Found')\n",
        "    continue\n",
        "  print(num)\n",
        ""
      ]
    },
    {
      "cell_type": "code",
      "source": [
        "nums = [1, 2, 3, 4, 5]\n",
        "\n",
        "for num in nums:\n",
        "  for letter in 'abc':\n",
        "    print(num, letter)"
      ],
      "metadata": {
        "id": "FKnW79Wvm0sl"
      },
      "execution_count": null,
      "outputs": []
    },
    {
      "cell_type": "code",
      "source": [
        "import time\n",
        "\n",
        "total_time = 0\n",
        "\n",
        "for i in range(10):\n",
        "  start_time = time.time()\n",
        "  print(i)\n",
        "  end_time = time.time()\n",
        "  total_time += end_time - start_time\n",
        "\n",
        "print(f\"The loop took: {total_time} seconds\")"
      ],
      "metadata": {
        "colab": {
          "base_uri": "https://localhost:8080/"
        },
        "id": "g3lZnkgxnPwz",
        "outputId": "1b135c4e-ad99-4689-a08a-fd12138ca168"
      },
      "execution_count": 16,
      "outputs": [
        {
          "output_type": "stream",
          "name": "stdout",
          "text": [
            "0\n",
            "1\n",
            "2\n",
            "3\n",
            "4\n",
            "5\n",
            "6\n",
            "7\n",
            "8\n",
            "9\n",
            "The loop took: 0.00027561187744140625 seconds\n"
          ]
        }
      ]
    },
    {
      "cell_type": "code",
      "source": [],
      "metadata": {
        "id": "TvkhCg8Grap-"
      },
      "execution_count": null,
      "outputs": []
    }
  ]
}