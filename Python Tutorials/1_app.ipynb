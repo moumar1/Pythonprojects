{
  "nbformat": 4,
  "nbformat_minor": 0,
  "metadata": {
    "colab": {
      "provenance": [],
      "authorship_tag": "ABX9TyPRy1v+D4L7+kvtfIYXMQ7E",
      "include_colab_link": true
    },
    "kernelspec": {
      "name": "python3",
      "display_name": "Python 3"
    },
    "language_info": {
      "name": "python"
    }
  },
  "cells": [
    {
      "cell_type": "markdown",
      "metadata": {
        "id": "view-in-github",
        "colab_type": "text"
      },
      "source": [
        "<a href=\"https://colab.research.google.com/github/moumar1/Pythonprojects/blob/main/1_app.ipynb\" target=\"_parent\"><img src=\"https://colab.research.google.com/assets/colab-badge.svg\" alt=\"Open In Colab\"/></a>"
      ]
    },
    {
      "cell_type": "markdown",
      "source": [
        "**Python Tutorial using Programming with Mosh**\n",
        "\n",
        "\n",
        "---\n",
        "\n",
        "\n",
        "Link is found:\n",
        "https://www.youtube.com/watch?v=_uQrJ0TkZlc"
      ],
      "metadata": {
        "id": "OoSab4RMsr5g"
      }
    },
    {
      "cell_type": "code",
      "execution_count": null,
      "metadata": {
        "colab": {
          "base_uri": "https://localhost:8080/"
        },
        "id": "GnRRAiwM83FD",
        "outputId": "d134399a-beaf-440e-afca-f0aa50aa6189"
      },
      "outputs": [
        {
          "output_type": "stream",
          "name": "stdout",
          "text": [
            "Hello World!\n"
          ]
        }
      ],
      "source": [
        "print(\"Hello World!\")"
      ]
    },
    {
      "cell_type": "code",
      "source": [
        "pateint = \" John Smith\"\n",
        "age = 20\n",
        "is_new = True\n",
        "\n",
        "print(pateint)\n",
        "print(age)\n",
        "print(is_new)"
      ],
      "metadata": {
        "colab": {
          "base_uri": "https://localhost:8080/"
        },
        "id": "E0uC-bzdkFJC",
        "outputId": "ba3108ef-1f7d-4f2c-d0d3-9b35a17d6982"
      },
      "execution_count": null,
      "outputs": [
        {
          "output_type": "stream",
          "name": "stdout",
          "text": [
            " John Smith\n",
            "20\n",
            "True\n"
          ]
        }
      ]
    },
    {
      "cell_type": "code",
      "source": [
        "# Input Functions\n",
        "\n",
        "name = input(\" What is your name? \")\n",
        "colour = input(\"What is your favourite colour? \")\n",
        "print(name + \" likes \" + colour)"
      ],
      "metadata": {
        "colab": {
          "base_uri": "https://localhost:8080/"
        },
        "id": "u2lLMPnEm0Q1",
        "outputId": "3ea2a6c5-497b-40ae-d646-eac5fa0a1b39"
      },
      "execution_count": null,
      "outputs": [
        {
          "output_type": "stream",
          "name": "stdout",
          "text": [
            " What is your name? John\n",
            "What is your favourite colour? Blue\n",
            "John likes Blue\n"
          ]
        }
      ]
    },
    {
      "cell_type": "code",
      "source": [
        "birth_year = input (\"Birth year: \")\n",
        "print(type(birth_year))\n",
        "age = 2024 - int(birth_year) # String needs to be assigned to an integar\n",
        "print(type(age))\n",
        "print(age)"
      ],
      "metadata": {
        "colab": {
          "base_uri": "https://localhost:8080/"
        },
        "id": "t2AKoUCHonuV",
        "outputId": "f2539637-7bb0-4aa6-f61f-0f5b88919b77"
      },
      "execution_count": null,
      "outputs": [
        {
          "output_type": "stream",
          "name": "stdout",
          "text": [
            "Birth year: 1998\n",
            "<class 'str'>\n",
            "<class 'int'>\n",
            "26\n"
          ]
        }
      ]
    },
    {
      "cell_type": "code",
      "source": [
        "# Type Conversion\n",
        "weight = input(\" What is your Weight in pounds? \")\n",
        "print(type(weight))\n",
        "weight_kg = int(weight) * 0.45\n",
        "print(type(weight_kg))\n",
        "print(weight_kg)"
      ],
      "metadata": {
        "colab": {
          "base_uri": "https://localhost:8080/"
        },
        "id": "jnMyylKNp1G6",
        "outputId": "f7304629-2365-4c19-bf29-a73f80d61244"
      },
      "execution_count": null,
      "outputs": [
        {
          "output_type": "stream",
          "name": "stdout",
          "text": [
            " What is your Weight in pounds? 170\n",
            "<class 'str'>\n",
            "<class 'float'>\n",
            "76.5\n"
          ]
        }
      ]
    },
    {
      "cell_type": "code",
      "source": [
        "# Python Strings # 29:39\n",
        "course = \"Python's course with tutorials\" # Single and double\n",
        "print(course)\n",
        "sub = '''\n",
        "Hi John\n",
        "Hereis our first email to you\n",
        "'''\n",
        "print(sub)"
      ],
      "metadata": {
        "id": "mrV0-9MfrQAo",
        "colab": {
          "base_uri": "https://localhost:8080/"
        },
        "outputId": "965a640e-00e9-48f9-a112-cba39ecc7e8d"
      },
      "execution_count": null,
      "outputs": [
        {
          "output_type": "stream",
          "name": "stdout",
          "text": [
            "Python's course with tutorials\n",
            "\n",
            "Hi John\n",
            "Hereis our first email to you\n",
            "\n"
          ]
        }
      ]
    },
    {
      "cell_type": "code",
      "source": [
        "course = 'Python for starters'\n",
        "print(course[0]) # Collect the first char\n",
        "print(course[-1]) # First character from the end\n",
        "print(course[0:4]) # return characters in index"
      ],
      "metadata": {
        "colab": {
          "base_uri": "https://localhost:8080/"
        },
        "id": "E4B5JBUbuGK7",
        "outputId": "3ef48a18-6b50-422b-9f34-e0b989853c23"
      },
      "execution_count": null,
      "outputs": [
        {
          "output_type": "stream",
          "name": "stdout",
          "text": [
            "P\n",
            "s\n",
            "Pyth\n"
          ]
        }
      ]
    },
    {
      "cell_type": "code",
      "source": [
        "# Formatted Strings\n",
        "first = 'John'\n",
        "last = 'Smith'\n",
        "\n",
        "message = first + ' [' + last +'] is a coder '\n",
        "msg = f'{first} [{last}] is a coder' # Formatted string\n",
        "# The place holder {} will hold the values of the string\n",
        "print(message)\n",
        "print(msg)"
      ],
      "metadata": {
        "colab": {
          "base_uri": "https://localhost:8080/"
        },
        "id": "QbdRBzFSvcrq",
        "outputId": "60931a11-0c30-481d-d8e5-1375ff14fa6e"
      },
      "execution_count": null,
      "outputs": [
        {
          "output_type": "stream",
          "name": "stdout",
          "text": [
            "John [Smith] is a coder \n",
            "John [Smith] is a coder\n"
          ]
        }
      ]
    },
    {
      "cell_type": "code",
      "source": [
        "# String methods\n",
        "course = 'Python for Beginners'\n",
        "print(len(course))\n",
        "print(course.upper()) # upper case called methods\n",
        "print(course.lower()) # Lower case\n",
        "\n",
        "print('Python' in course) # Finding"
      ],
      "metadata": {
        "colab": {
          "base_uri": "https://localhost:8080/"
        },
        "id": "g_mqu4ejxLtf",
        "outputId": "24a1c059-a203-4ca7-8569-41cc4881ea91"
      },
      "execution_count": null,
      "outputs": [
        {
          "output_type": "stream",
          "name": "stdout",
          "text": [
            "20\n",
            "PYTHON FOR BEGINNERS\n",
            "python for beginners\n",
            "True\n"
          ]
        }
      ]
    },
    {
      "cell_type": "code",
      "source": [
        "# Arithmetic operators\n",
        "print(10+3)\n",
        "print(10/3) # prints a decimal number\n",
        "print(10//3) # For printing rounded number\n",
        "print(10 % 3) # Prints remainder\n",
        "print(10 ** 3) # Exponential"
      ],
      "metadata": {
        "colab": {
          "base_uri": "https://localhost:8080/"
        },
        "id": "iklIlqNVzu1G",
        "outputId": "66f7c41c-5cab-417f-9ecc-5f8a77fedf5d"
      },
      "execution_count": null,
      "outputs": [
        {
          "output_type": "stream",
          "name": "stdout",
          "text": [
            "13\n",
            "3.3333333333333335\n",
            "3\n",
            "1\n",
            "1000\n"
          ]
        }
      ]
    },
    {
      "cell_type": "code",
      "source": [
        "x = 10\n",
        "# x = x + 3\n",
        "x += 3 # Augmented assignment Line 2 and 3 are the same\n",
        "print(x)"
      ],
      "metadata": {
        "colab": {
          "base_uri": "https://localhost:8080/"
        },
        "id": "rBGJX9300w1R",
        "outputId": "930b21a7-2bdd-439b-c72d-30a8a719c01c"
      },
      "execution_count": null,
      "outputs": [
        {
          "output_type": "stream",
          "name": "stdout",
          "text": [
            "13\n"
          ]
        }
      ]
    },
    {
      "cell_type": "code",
      "source": [
        "# 52:06\n",
        "x = -2.9\n",
        "print(round(x))\n",
        "print(abs(x))"
      ],
      "metadata": {
        "id": "1WV-b9cN1kkz",
        "colab": {
          "base_uri": "https://localhost:8080/"
        },
        "outputId": "27a7f488-cb91-474a-acbe-c4d487468639"
      },
      "execution_count": null,
      "outputs": [
        {
          "output_type": "stream",
          "name": "stdout",
          "text": [
            "-3\n",
            "2.9\n"
          ]
        }
      ]
    },
    {
      "cell_type": "code",
      "source": [
        "import math\n",
        "math.ceil(2.9)\n",
        "math.floor(2.9)\n"
      ],
      "metadata": {
        "colab": {
          "base_uri": "https://localhost:8080/"
        },
        "id": "jfoTgrUt7NNt",
        "outputId": "cb671158-d969-4c23-cef8-c3403e473f11"
      },
      "execution_count": null,
      "outputs": [
        {
          "output_type": "execute_result",
          "data": {
            "text/plain": [
              "3"
            ]
          },
          "metadata": {},
          "execution_count": 3
        }
      ]
    },
    {
      "cell_type": "code",
      "source": [
        "# If statements 58:33\n",
        "is_hot = False\n",
        "is_cold = True\n",
        "\n",
        "if is_hot:\n",
        "  print(\"It's a Hot Day\")\n",
        "  print(\"Drink plenty of water\")\n",
        "elif is_cold:\n",
        "  print(\"It's A Cold day\")\n",
        "  print(\"Wear Warm Clothes\")\n",
        "else:\n",
        "  print(\"It's a loveley day\")\n"
      ],
      "metadata": {
        "colab": {
          "base_uri": "https://localhost:8080/"
        },
        "id": "PtLBGSZ77ibP",
        "outputId": "daef28ce-55c3-4a41-b7a9-eaf1c4704424"
      },
      "execution_count": null,
      "outputs": [
        {
          "output_type": "stream",
          "name": "stdout",
          "text": [
            "It's A Cold day\n",
            "Wear Warm Clothes\n"
          ]
        }
      ]
    },
    {
      "cell_type": "code",
      "source": [
        "buyer_credit = True\n",
        "price = 1000000\n",
        "\n",
        "if buyer_credit:\n",
        "  down_payment = 0.1*price\n",
        "\n",
        "else:\n",
        "  down_payment = 0.2 * price\n",
        "\n",
        "print(f\"Down Payment: ${down_payment}\")"
      ],
      "metadata": {
        "colab": {
          "base_uri": "https://localhost:8080/"
        },
        "id": "Rky3Ko0zBRjZ",
        "outputId": "e284667a-b33e-498b-9db5-0fd3c3b14a50"
      },
      "execution_count": null,
      "outputs": [
        {
          "output_type": "stream",
          "name": "stdout",
          "text": [
            "Down Payment: $100000.0\n"
          ]
        }
      ]
    },
    {
      "cell_type": "code",
      "source": [
        "high_income = True\n",
        "good_credit = True\n",
        "\n",
        "if high_income and good_credit:\n",
        "  print(\"Loan is eligible\")\n",
        "else:\n",
        "  print(\"Not Eligible For Loan\")"
      ],
      "metadata": {
        "colab": {
          "base_uri": "https://localhost:8080/"
        },
        "id": "-3HqRxHKCfH6",
        "outputId": "87cd5514-d077-4efd-a4f0-ff1e1cc8b189"
      },
      "execution_count": null,
      "outputs": [
        {
          "output_type": "stream",
          "name": "stdout",
          "text": [
            "Loan is eligible\n"
          ]
        }
      ]
    },
    {
      "cell_type": "code",
      "source": [
        "temperature = input(\"What is the Temperature? \")\n",
        "if int(temperature) >= 30:\n",
        "  print(\"It's a Hot day\")\n",
        "else:\n",
        "  print(\"It's not a Hot day\")"
      ],
      "metadata": {
        "colab": {
          "base_uri": "https://localhost:8080/"
        },
        "id": "LCT5lm0WFYqp",
        "outputId": "397fca99-4473-4542-a2aa-fc2ae747e803"
      },
      "execution_count": null,
      "outputs": [
        {
          "output_type": "stream",
          "name": "stdout",
          "text": [
            "What is the Temperature? 20\n",
            "It's not a Hot day\n"
          ]
        }
      ]
    },
    {
      "cell_type": "code",
      "source": [
        "name = input(\"What is your name? \")\n",
        "if (len(name) < 3):\n",
        "  print(\"Name must be atleast 3 Characters Long\")\n",
        "elif  len(name) > 50:\n",
        "  print(\" Name Must Be Within 50 Characters\")\n",
        "else:\n",
        "  print(\"Name Looks Good\")\n"
      ],
      "metadata": {
        "colab": {
          "base_uri": "https://localhost:8080/"
        },
        "id": "1o5oro2LHfAj",
        "outputId": "9c9956b0-86c3-4c72-de5c-747c3face83e"
      },
      "execution_count": null,
      "outputs": [
        {
          "output_type": "stream",
          "name": "stdout",
          "text": [
            "What is your name? mop\n",
            "Name Looks Good\n"
          ]
        }
      ]
    },
    {
      "cell_type": "code",
      "source": [
        "# While loops\n",
        "i = 1\n",
        "while i <=5:\n",
        "  print('*' * i)\n",
        "  i = i+1\n",
        "print(\"Done\")"
      ],
      "metadata": {
        "id": "63p-eEVrIwX5",
        "colab": {
          "base_uri": "https://localhost:8080/"
        },
        "outputId": "fa3c0d3f-ca4a-44c5-924a-d4aeeee23650"
      },
      "execution_count": null,
      "outputs": [
        {
          "output_type": "stream",
          "name": "stdout",
          "text": [
            "*\n",
            "**\n",
            "***\n",
            "****\n",
            "*****\n",
            "Done\n"
          ]
        }
      ]
    },
    {
      "cell_type": "code",
      "source": [
        "# Guessing game\n",
        "secret_number = 9\n",
        "guess_count = 0\n",
        "guess_limit = 3\n",
        "while guess_count < guess_limit:\n",
        "  guess = int(input(\"Guess the number: \"))\n",
        "  guess_count += 1\n",
        "  if guess == secret_number:\n",
        "    print(\"you have guessed correct\")\n",
        "    break\n",
        "else:\n",
        "  print(\"sorry you have failed\")"
      ],
      "metadata": {
        "colab": {
          "base_uri": "https://localhost:8080/"
        },
        "id": "30gFzEV7Kahi",
        "outputId": "cd4789a0-7ff0-4e66-aa06-bc38e8938ee4"
      },
      "execution_count": null,
      "outputs": [
        {
          "output_type": "stream",
          "name": "stdout",
          "text": [
            "Guess the number: 9\n",
            "you have guessed correct\n"
          ]
        }
      ]
    },
    {
      "cell_type": "code",
      "source": [
        "# 1:30:57\n",
        "command = \"\"\n",
        "started = False\n",
        "while True:\n",
        "  command = input(\"> \").lower()\n",
        "  if command == \"start\":\n",
        "    print(\"Car started\")\n",
        "  elif command == \"stop\":\n",
        "    print(\"car has stopped\")\n",
        "  elif command == \"help\":\n",
        "    print(\"\"\"\n",
        "start - car has started\n",
        "stop - car has stopped\n",
        "quit - exit game\n",
        "    \"\"\")\n",
        "  elif command == \"quit\":\n",
        "    break\n",
        "  else:\n",
        "    print(\"Sorry I dont understand\")"
      ],
      "metadata": {
        "id": "5TrPpW4lOXxM",
        "colab": {
          "base_uri": "https://localhost:8080/"
        },
        "outputId": "fdf352b0-9f71-4d84-d2a4-02bbb1fab8e0"
      },
      "execution_count": null,
      "outputs": [
        {
          "name": "stdout",
          "output_type": "stream",
          "text": [
            "> quit\n"
          ]
        }
      ]
    },
    {
      "cell_type": "code",
      "source": [
        "# For Loops\n",
        "\n",
        "for item in ['Mosh', 'John', 'Sarah' ]:\n",
        "  print(item)"
      ],
      "metadata": {
        "colab": {
          "base_uri": "https://localhost:8080/"
        },
        "id": "sPZ_bPknF-0Y",
        "outputId": "13a05201-21a8-4b42-b93e-a3e83e7388e7"
      },
      "execution_count": null,
      "outputs": [
        {
          "output_type": "stream",
          "name": "stdout",
          "text": [
            "Mosh\n",
            "John\n",
            "Sarah\n"
          ]
        }
      ]
    },
    {
      "cell_type": "code",
      "source": [
        "# for loops\n",
        "for item in range(3):\n",
        "  print(item)"
      ],
      "metadata": {
        "colab": {
          "base_uri": "https://localhost:8080/"
        },
        "id": "epwM85bvzXRt",
        "outputId": "f46b2dba-71ea-444e-f88b-f6ec97fa6590"
      },
      "execution_count": null,
      "outputs": [
        {
          "output_type": "stream",
          "name": "stdout",
          "text": [
            "0\n",
            "1\n",
            "2\n"
          ]
        }
      ]
    },
    {
      "cell_type": "code",
      "source": [
        "#For loops\n",
        "prices = [10, 20, 30]\n",
        "total = 0\n",
        "for i in prices:\n",
        "  total = total + i\n",
        "print(total)\n",
        "\n",
        "# i would equal each value in the prices [10, 20, 30] it will\n",
        "#loop till executed the full value in the brackets make sure\n",
        "#indentation is correct"
      ],
      "metadata": {
        "colab": {
          "base_uri": "https://localhost:8080/"
        },
        "id": "TjdFduqfGlzi",
        "outputId": "8e1d1644-e649-45db-d9ce-b7661103c436"
      },
      "execution_count": null,
      "outputs": [
        {
          "output_type": "stream",
          "name": "stdout",
          "text": [
            "60\n"
          ]
        }
      ]
    },
    {
      "cell_type": "code",
      "source": [
        "# nested For Loop\n",
        "for x in range (4):\n",
        "  for y in range(3):\n",
        "    print(f\"{x}, {y}\")\n",
        "# first iteration x = 0 and inner loop y = 0\n",
        "# control goes back in inner loop while holding outer loop\n",
        "# 0,0, 0,1, 0,2, then exit x = 1 y = 0, 1,0 1,1 1,2"
      ],
      "metadata": {
        "colab": {
          "base_uri": "https://localhost:8080/"
        },
        "id": "GjmzaFZhKxJx",
        "outputId": "f2d8e6b2-c9ed-4c70-c0db-cf618f54a8be"
      },
      "execution_count": null,
      "outputs": [
        {
          "output_type": "stream",
          "name": "stdout",
          "text": [
            "0, 0\n",
            "0, 1\n",
            "0, 2\n",
            "1, 0\n",
            "1, 1\n",
            "1, 2\n",
            "2, 0\n",
            "2, 1\n",
            "2, 2\n",
            "3, 0\n",
            "3, 1\n",
            "3, 2\n"
          ]
        }
      ]
    },
    {
      "cell_type": "code",
      "source": [
        "numbers = [5, 2, 5, 2, 2]\n",
        "\n",
        "for x_count in numbers:\n",
        "  output = ''\n",
        "  for count in range(x_count):\n",
        "    output = output + 'x'\n",
        "  print(output)"
      ],
      "metadata": {
        "colab": {
          "base_uri": "https://localhost:8080/"
        },
        "id": "KEbvecXOL3Om",
        "outputId": "5306bdc6-89b8-4a76-c410-81a3f9fe4c28"
      },
      "execution_count": 2,
      "outputs": [
        {
          "output_type": "stream",
          "name": "stdout",
          "text": [
            "xxxxx\n",
            "xx\n",
            "xxxxx\n",
            "xx\n",
            "xx\n"
          ]
        }
      ]
    },
    {
      "cell_type": "code",
      "source": [
        "# Lists\n",
        "numbers = [0, 1, 13, 4, 5, 6, 150, 100]\n",
        "numbers.sort()\n",
        "\n",
        "print(numbers[-1])"
      ],
      "metadata": {
        "colab": {
          "base_uri": "https://localhost:8080/"
        },
        "id": "IB4omYszqn9W",
        "outputId": "7b8e0fe6-78a6-4840-a847-cab166f2b518"
      },
      "execution_count": null,
      "outputs": [
        {
          "output_type": "stream",
          "name": "stdout",
          "text": [
            "150\n"
          ]
        }
      ]
    },
    {
      "cell_type": "code",
      "source": [
        "numbers = [0, 1, 13, 4, 5, 6, 150, 100]\n",
        "\n",
        "max = numbers[0]\n",
        "for number in numbers:\n",
        "  if number > max:\n",
        "    max = number\n",
        "print(max)"
      ],
      "metadata": {
        "colab": {
          "base_uri": "https://localhost:8080/"
        },
        "id": "Ep3NnAH6xF36",
        "outputId": "61b8f28e-04f7-4a47-9e5b-a6af4ec324af"
      },
      "execution_count": null,
      "outputs": [
        {
          "output_type": "stream",
          "name": "stdout",
          "text": [
            "150\n"
          ]
        }
      ]
    },
    {
      "cell_type": "code",
      "source": [
        "# 2:01:59\n",
        "matrix = [\n",
        "    [1, 2 ,3],\n",
        "    [4, 5, 6],\n",
        "    [7, 8, 9]\n",
        "]\n",
        "# matrix[0] [1] # access first row and second value\n",
        "# matrix [1]\n",
        "for row in matrix:\n",
        "  for item in row:\n",
        "    print(item)"
      ],
      "metadata": {
        "id": "NF2Jnf2iyqV3",
        "colab": {
          "base_uri": "https://localhost:8080/"
        },
        "outputId": "23e86bc8-dc3e-4493-b9df-16408c0df841"
      },
      "execution_count": 14,
      "outputs": [
        {
          "output_type": "stream",
          "name": "stdout",
          "text": [
            "1\n",
            "2\n",
            "3\n",
            "4\n",
            "5\n",
            "6\n",
            "7\n",
            "8\n",
            "9\n"
          ]
        }
      ]
    },
    {
      "cell_type": "code",
      "source": [
        "numbers = [5, 2, 1, 7, 4]\n",
        "#numbers.append(13) # add to the list\n",
        "#numbers.insert(0, 10) # insert position 0 add number 10\n",
        "#numbers.remove(2) # remove a number\n",
        "#numbers.pop() # remove last item in list\n",
        "numbers.sort()\n",
        "print(numbers)\n"
      ],
      "metadata": {
        "colab": {
          "base_uri": "https://localhost:8080/"
        },
        "id": "x0-JsXezJd09",
        "outputId": "88a1fedb-0597-4567-d05a-b10d205c6a02"
      },
      "execution_count": 23,
      "outputs": [
        {
          "output_type": "stream",
          "name": "stdout",
          "text": [
            "[1, 2, 4, 5, 7, 13]\n"
          ]
        }
      ]
    },
    {
      "cell_type": "code",
      "source": [
        "numbers = [5, 2, 1, 7, 4, 2, 5]\n",
        "numbers.sort()\n",
        "uniques = []\n",
        "for i in numbers:\n",
        "  if i not in uniques:\n",
        "    uniques.append(i)\n",
        "print(uniques)"
      ],
      "metadata": {
        "colab": {
          "base_uri": "https://localhost:8080/"
        },
        "id": "NmKTwoiQLdrS",
        "outputId": "b61a2ae7-1792-4f79-c23a-d56b92ca16ff"
      },
      "execution_count": 31,
      "outputs": [
        {
          "output_type": "stream",
          "name": "stdout",
          "text": [
            "[1, 2, 4, 5, 7]\n"
          ]
        }
      ]
    },
    {
      "cell_type": "code",
      "source": [
        "# Unpacking\n",
        "co = (1, 2, 3)"
      ],
      "metadata": {
        "id": "f4gedZuoOonh"
      },
      "execution_count": null,
      "outputs": []
    }
  ]
}