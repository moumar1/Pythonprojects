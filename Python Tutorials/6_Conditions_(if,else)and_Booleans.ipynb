{
  "nbformat": 4,
  "nbformat_minor": 0,
  "metadata": {
    "colab": {
      "provenance": [],
      "authorship_tag": "ABX9TyOE5OXZB7dyFDMGLtyNKBzJ",
      "include_colab_link": true
    },
    "kernelspec": {
      "name": "python3",
      "display_name": "Python 3"
    },
    "language_info": {
      "name": "python"
    }
  },
  "cells": [
    {
      "cell_type": "markdown",
      "metadata": {
        "id": "view-in-github",
        "colab_type": "text"
      },
      "source": [
        "<a href=\"https://colab.research.google.com/github/moumar1/Pythonprojects/blob/main/6_Conditions_(if%2Celse)and_Booleans.ipynb\" target=\"_parent\"><img src=\"https://colab.research.google.com/assets/colab-badge.svg\" alt=\"Open In Colab\"/></a>"
      ]
    },
    {
      "cell_type": "code",
      "execution_count": 4,
      "metadata": {
        "colab": {
          "base_uri": "https://localhost:8080/"
        },
        "id": "qJJCNLH9zmXN",
        "outputId": "43765ea1-4373-4766-fdce-f7ce05b31fe4"
      },
      "outputs": [
        {
          "output_type": "stream",
          "name": "stdout",
          "text": [
            "Language is Python\n"
          ]
        }
      ],
      "source": [
        "# Comparisons:\n",
        "# Equal:            ==\n",
        "# Not Equal:        !=\n",
        "# Greater Than:     >\n",
        "# Less Than:        <\n",
        "# Greater or Equal: >=\n",
        "# Less or Equal:    <=\n",
        "# Object Identity:  is\n",
        "\n",
        "language ='Python'\n",
        "\n",
        "if language == 'Python':\n",
        "  print('Language is Python')\n",
        "elif language == 'Java':\n",
        "  print('Language Is Java')\n",
        "else:\n",
        "  print('no match')"
      ]
    },
    {
      "cell_type": "code",
      "source": [
        "# and or, not\n",
        "# and both have to be true\n",
        "user = 'Admin'\n",
        "logged_in = True\n",
        "\n",
        "if user == 'Admin' and logged_in:\n",
        "  print('Admin Page')\n",
        "else:\n",
        "    print('Bad Creds')"
      ],
      "metadata": {
        "colab": {
          "base_uri": "https://localhost:8080/"
        },
        "id": "mqYdJLpf2Uz6",
        "outputId": "f0036cc5-640e-4eb2-b423-a9afcfd8ede7"
      },
      "execution_count": 5,
      "outputs": [
        {
          "output_type": "stream",
          "name": "stdout",
          "text": [
            "Admin Page\n"
          ]
        }
      ]
    },
    {
      "cell_type": "code",
      "source": [
        "a = [1,2,3]\n",
        "b = [1,2,3]\n",
        "\n",
        "print(a == b)\n",
        "print(a is b)"
      ],
      "metadata": {
        "colab": {
          "base_uri": "https://localhost:8080/"
        },
        "id": "7URHkOdw4pb1",
        "outputId": "f5738300-b1a6-4801-e8d6-c28cce50a493"
      },
      "execution_count": 8,
      "outputs": [
        {
          "output_type": "stream",
          "name": "stdout",
          "text": [
            "True\n",
            "False\n"
          ]
        }
      ]
    },
    {
      "cell_type": "code",
      "source": [
        "# False Values:\n",
        "    # False\n",
        "    # None\n",
        "    # Zero of any numeric type\n",
        "    # Any empty sequence. For example, '', (), [].\n",
        "    # Any empty mapping. For example, {}.\n",
        "\n",
        "condition = {} # [''] #0 # None # False\n",
        "\n",
        "if condition:\n",
        "    print('Evaluated to True')\n",
        "else:\n",
        "    print('Evaluated to False')"
      ],
      "metadata": {
        "colab": {
          "base_uri": "https://localhost:8080/"
        },
        "id": "mEuCjh2D5f9k",
        "outputId": "3dcd517a-5c04-4e09-9389-7386e4b7202d"
      },
      "execution_count": 14,
      "outputs": [
        {
          "output_type": "stream",
          "name": "stdout",
          "text": [
            "Evaluated to True\n"
          ]
        }
      ]
    }
  ]
}